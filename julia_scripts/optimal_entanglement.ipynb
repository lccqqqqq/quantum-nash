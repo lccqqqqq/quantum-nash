{
 "cells": [
  {
   "cell_type": "code",
   "execution_count": 26,
   "metadata": {},
   "outputs": [],
   "source": [
    "import numpy as np\n",
    "import pandas as pd\n",
    "import matplotlib.pyplot as plt"
   ]
  },
  {
   "cell_type": "code",
   "execution_count": 29,
   "metadata": {},
   "outputs": [],
   "source": [
    "# Define the implicit surface\n",
    "\n",
    "def surface_p(x, y, z, k):\n",
    "    return (1 - (x**2 + y**2 + z**2)) * z - 2 * x * y - k * (1 + (x**2 + y**2 + z**2))**2\n",
    "\n",
    "def surface_m(x, y, z, k):\n",
    "    return (1 - (x**2 + y**2 + z**2)) * z - 2 * x * y + k * (1 + (x**2 + y**2 + z**2))**2\n"
   ]
  },
  {
   "cell_type": "code",
   "execution_count": 49,
   "metadata": {},
   "outputs": [
    {
     "name": "stdout",
     "output_type": "stream",
     "text": [
      "(3, 4)\n"
     ]
    }
   ],
   "source": [
    "df = pd.read_csv('nash_loc_min.csv')\n",
    "loc_min_dat = np.array(df.values).reshape(3, 1104)\n",
    "\n",
    "threshold = 0.00002\n",
    "k = 0.25\n",
    "filtered_loc_min_dat = loc_min_dat[:, (abs(surface_p(*loc_min_dat, k)) < threshold) | (abs(surface_m(*loc_min_dat, k)) < threshold)]\n",
    "\n",
    "print(filtered_loc_min_dat.shape)\n",
    "\n"
   ]
  },
  {
   "cell_type": "code",
   "execution_count": 20,
   "metadata": {},
   "outputs": [],
   "source": [
    "import matplotlib.pyplot as plt\n",
    "\n",
    "plt.scatter(loc_min_dat[0], loc_min_dat[1])\n",
    "plt.xlabel('X')\n",
    "plt.ylabel('Y')\n",
    "plt.title('Scatter Plot')\n",
    "plt.savefig('scatter_plot.png')\n"
   ]
  }
 ],
 "metadata": {
  "kernelspec": {
   "display_name": "Python 3",
   "language": "python",
   "name": "python3"
  },
  "language_info": {
   "codemirror_mode": {
    "name": "ipython",
    "version": 3
   },
   "file_extension": ".py",
   "mimetype": "text/x-python",
   "name": "python",
   "nbconvert_exporter": "python",
   "pygments_lexer": "ipython3",
   "version": "3.11.2"
  }
 },
 "nbformat": 4,
 "nbformat_minor": 2
}
